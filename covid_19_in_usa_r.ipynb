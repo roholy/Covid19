{
  "nbformat": 4,
  "nbformat_minor": 0,
  "metadata": {
    "kernelspec": {
      "name": "ir",
      "display_name": "R",
      "language": "R"
    },
    "language_info": {
      "mimetype": "text/x-r-source",
      "name": "R",
      "pygments_lexer": "r",
      "version": "3.6.0",
      "file_extension": ".r",
      "codemirror_mode": "r"
    },
    "colab": {
      "name": "covid-19-in-usa-r.ipynb",
      "provenance": [],
      "include_colab_link": true
    }
  },
  "cells": [
    {
      "cell_type": "markdown",
      "metadata": {
        "id": "view-in-github",
        "colab_type": "text"
      },
      "source": [
        "<a href=\"https://colab.research.google.com/github/roholy/Covid19/blob/main/covid_19_in_usa_r.ipynb\" target=\"_parent\"><img src=\"https://colab.research.google.com/assets/colab-badge.svg\" alt=\"Open In Colab\"/></a>"
      ]
    },
    {
      "cell_type": "markdown",
      "metadata": {
        "id": "EcwvPZA0_CHi"
      },
      "source": [
        "# Visualize delevopment of Corona pandemic in the USA"
      ]
    },
    {
      "cell_type": "code",
      "metadata": {
        "_uuid": "051d70d956493feee0c6d64651c6a088724dca2a",
        "_execution_state": "idle",
        "trusted": true,
        "colab": {
          "base_uri": "https://localhost:8080/",
          "height": 353
        },
        "id": "7BwCZGlw_CHi",
        "outputId": "90f724cd-ab5b-474c-9d27-a398194e5b90"
      },
      "source": [
        "# inits\n",
        "library(tidyverse)\n",
        "library(lubridate) # for date handling\n",
        "\n",
        "list.files(path = '../input/novel-corona-virus-2019-dataset/')"
      ],
      "execution_count": 1,
      "outputs": [
        {
          "output_type": "stream",
          "text": [
            "── \u001b[1mAttaching packages\u001b[22m ─────────────────────────────────────── tidyverse 1.3.0 ──\n",
            "\n",
            "\u001b[32m✔\u001b[39m \u001b[34mggplot2\u001b[39m 3.3.2     \u001b[32m✔\u001b[39m \u001b[34mpurrr  \u001b[39m 0.3.4\n",
            "\u001b[32m✔\u001b[39m \u001b[34mtibble \u001b[39m 3.0.4     \u001b[32m✔\u001b[39m \u001b[34mdplyr  \u001b[39m 1.0.2\n",
            "\u001b[32m✔\u001b[39m \u001b[34mtidyr  \u001b[39m 1.1.2     \u001b[32m✔\u001b[39m \u001b[34mstringr\u001b[39m 1.4.0\n",
            "\u001b[32m✔\u001b[39m \u001b[34mreadr  \u001b[39m 1.4.0     \u001b[32m✔\u001b[39m \u001b[34mforcats\u001b[39m 0.5.0\n",
            "\n",
            "── \u001b[1mConflicts\u001b[22m ────────────────────────────────────────── tidyverse_conflicts() ──\n",
            "\u001b[31m✖\u001b[39m \u001b[34mdplyr\u001b[39m::\u001b[32mfilter()\u001b[39m masks \u001b[34mstats\u001b[39m::filter()\n",
            "\u001b[31m✖\u001b[39m \u001b[34mdplyr\u001b[39m::\u001b[32mlag()\u001b[39m    masks \u001b[34mstats\u001b[39m::lag()\n",
            "\n",
            "\n",
            "Attaching package: ‘lubridate’\n",
            "\n",
            "\n",
            "The following objects are masked from ‘package:base’:\n",
            "\n",
            "    date, intersect, setdiff, union\n",
            "\n",
            "\n"
          ],
          "name": "stderr"
        },
        {
          "output_type": "display_data",
          "data": {
            "text/plain": [
              "character(0)"
            ],
            "text/latex": "",
            "text/markdown": "",
            "text/html": [
              ""
            ]
          },
          "metadata": {
            "tags": []
          }
        }
      ]
    },
    {
      "cell_type": "code",
      "metadata": {
        "trusted": true,
        "colab": {
          "base_uri": "https://localhost:8080/",
          "height": 212
        },
        "id": "BTDacJgy_CHi",
        "outputId": "eaa51034-3069-4489-adaa-8a703c7df543"
      },
      "source": [
        "# load main file\n",
        "df <- read.csv('../input/novel-corona-virus-2019-dataset/covid_19_data.csv')\n",
        "str(df)"
      ],
      "execution_count": 2,
      "outputs": [
        {
          "output_type": "stream",
          "text": [
            "Warning message in file(file, \"rt\"):\n",
            "“cannot open file '../input/novel-corona-virus-2019-dataset/covid_19_data.csv': No such file or directory”\n"
          ],
          "name": "stderr"
        },
        {
          "output_type": "error",
          "ename": "ERROR",
          "evalue": "ignored",
          "traceback": [
            "Error in file(file, \"rt\"): cannot open the connection\nTraceback:\n",
            "1. read.csv(\"../input/novel-corona-virus-2019-dataset/covid_19_data.csv\")",
            "2. read.table(file = file, header = header, sep = sep, quote = quote, \n .     dec = dec, fill = fill, comment.char = comment.char, ...)",
            "3. file(file, \"rt\")"
          ]
        }
      ]
    },
    {
      "cell_type": "code",
      "metadata": {
        "trusted": true,
        "id": "6hjoTn2z_CHi"
      },
      "source": [
        "# convert dates\n",
        "df$Date <- as.Date(df$ObservationDate, format = '%m/%d/%y')\n",
        "df$ObservationDate <- NULL\n",
        "df$Last.Update <- NULL"
      ],
      "execution_count": null,
      "outputs": []
    },
    {
      "cell_type": "code",
      "metadata": {
        "trusted": true,
        "id": "yq9YSeSS_CHi"
      },
      "source": [
        "# filter US\n",
        "df_USA <- dplyr::filter(df, Country.Region=='US')"
      ],
      "execution_count": null,
      "outputs": []
    },
    {
      "cell_type": "code",
      "metadata": {
        "trusted": true,
        "id": "tFmsBSgR_CHi"
      },
      "source": [
        "# aggregate states to nationwide view\n",
        "df_USA <- dplyr::group_by(df_USA, Date) %>% summarise(Confirmed = sum(Confirmed),\n",
        "                                                   Deaths = sum(Deaths),\n",
        "                                                   Recovered = sum(Recovered))"
      ],
      "execution_count": null,
      "outputs": []
    },
    {
      "cell_type": "code",
      "metadata": {
        "trusted": true,
        "id": "V7CRtp8L_CHi"
      },
      "source": [
        "n <- nrow(df_USA)\n",
        "print(paste0('Observations: ', n))\n",
        "# add a few more features\n",
        "df_USA$Active <- df_USA$Confirmed - df_USA$Recovered - df_USA$Deaths \n",
        "df_USA$MortRate <- df_USA$Deaths / df_USA$Confirmed\n",
        "df_USA$RecRate <- df_USA$Recovered / df_USA$Confirmed\n",
        "df_USA$Rec_vs_Mort <- df_USA$Recovered / df_USA$Deaths\n",
        "df_USA$DiffConf <- 0\n",
        "df_USA$DiffConf[2:nrow(df_USA)] <- diff(df_USA$Confirmed)\n",
        "df_USA$RelIncrease <- c(NaN, df_USA$DiffConf[2:n] / df_USA$Confirmed[1:n-1])\n",
        "df_USA$DoublingDays <- round(log(2)/log(1+df_USA$RelIncrease),2)\n",
        "df_USA$DiffDeath <- 0\n",
        "df_USA$DiffDeath[2:nrow(df_USA)] <- diff(df_USA$Deaths)\n",
        "df_USA$RelIncD <- c(NaN, df_USA$DiffDeath[2:n] / df_USA$Deaths[1:n-1])\n",
        "df_USA$DoublingDaysD <- round(log(2)/log(1+df_USA$RelIncD),2)\n",
        "# show data frame\n",
        "df_USA"
      ],
      "execution_count": null,
      "outputs": []
    },
    {
      "cell_type": "code",
      "metadata": {
        "trusted": true,
        "id": "9TMo_eps_CHi"
      },
      "source": [
        "print(paste0('Data as at: ', max(df_USA$Date)))"
      ],
      "execution_count": null,
      "outputs": []
    },
    {
      "cell_type": "code",
      "metadata": {
        "trusted": true,
        "id": "r36wFcR__CHi"
      },
      "source": [
        "plot(df_USA$Date, df_USA$Confirmed, main='Confirmed Cases', type='b')\n",
        "grid()"
      ],
      "execution_count": null,
      "outputs": []
    },
    {
      "cell_type": "code",
      "metadata": {
        "trusted": true,
        "id": "CpVJaETw_CHi"
      },
      "source": [
        "plot(df_USA$Date, log10(df_USA$Confirmed), main='Confirmed Cases - Log Scale', type='b')\n",
        "grid()"
      ],
      "execution_count": null,
      "outputs": []
    },
    {
      "cell_type": "code",
      "metadata": {
        "trusted": true,
        "id": "v1KeLaW6_CHi"
      },
      "source": [
        "plot(df_USA$Date, df_USA$DiffConf, main='Absolute Increase of Confirmed Cases', type='b')\n",
        "grid()"
      ],
      "execution_count": null,
      "outputs": []
    },
    {
      "cell_type": "code",
      "metadata": {
        "trusted": true,
        "id": "NhgDtsSY_CHi"
      },
      "source": [
        "plot(df_USA$Date, df_USA$RelIncrease, main='Relative Change vs Previous Day', type='b', ylim=c(0,0.5))\n",
        "grid()"
      ],
      "execution_count": null,
      "outputs": []
    },
    {
      "cell_type": "code",
      "metadata": {
        "trusted": true,
        "id": "gwEx5nJj_CHi"
      },
      "source": [
        "plot(df_USA$Date, df_USA$DoublingDays, main='Confirmed - Theoretical days until next doubling', type='b')\n",
        "grid()"
      ],
      "execution_count": null,
      "outputs": []
    },
    {
      "cell_type": "code",
      "metadata": {
        "trusted": true,
        "id": "dYuE6l6j_CHi"
      },
      "source": [
        "plot(df_USA$Date, df_USA$Deaths, main='Deaths', type='b')\n",
        "grid()"
      ],
      "execution_count": null,
      "outputs": []
    },
    {
      "cell_type": "code",
      "metadata": {
        "trusted": true,
        "id": "LciBJ21__CHi"
      },
      "source": [
        "plot(df_USA$Date, log10(df_USA$Deaths), main='Deaths - Log Scale', type='b')\n",
        "grid()"
      ],
      "execution_count": null,
      "outputs": []
    },
    {
      "cell_type": "code",
      "metadata": {
        "trusted": true,
        "id": "tMT-I_cf_CHi"
      },
      "source": [
        "plot(df_USA$Date, df_USA$DiffDeath, main='Absolute Increase of Deaths', type='b')\n",
        "grid()"
      ],
      "execution_count": null,
      "outputs": []
    },
    {
      "cell_type": "code",
      "metadata": {
        "trusted": true,
        "id": "s6pUsDTl_CHi"
      },
      "source": [
        "plot(df_USA$Date, df_USA$RelIncD, main='Deaths - Relative Change vs Previous Day', type='b', ylim=c(0,0.5))\n",
        "grid()"
      ],
      "execution_count": null,
      "outputs": []
    },
    {
      "cell_type": "code",
      "metadata": {
        "trusted": true,
        "id": "OBOLB7W-_CHi"
      },
      "source": [
        "plot(df_USA$Date, df_USA$DoublingDaysD, main='Deaths - Theoretical days until next doubling', type='b')\n",
        "grid()"
      ],
      "execution_count": null,
      "outputs": []
    },
    {
      "cell_type": "code",
      "metadata": {
        "trusted": true,
        "id": "9Y6xoCr__CHi"
      },
      "source": [
        "plot(df_USA$Date, df_USA$Recovered, main='Recovered', type='b')\n",
        "grid()"
      ],
      "execution_count": null,
      "outputs": []
    },
    {
      "cell_type": "code",
      "metadata": {
        "trusted": true,
        "id": "ElK7gT8-_CHi"
      },
      "source": [
        "plot(df_USA$Date, df_USA$Active, main='Active', type='b')\n",
        "grid()"
      ],
      "execution_count": null,
      "outputs": []
    },
    {
      "cell_type": "code",
      "metadata": {
        "trusted": true,
        "id": "ARVQI4jQ_CHi"
      },
      "source": [
        "plot(df_USA$Date, df_USA$RecRate, pch=16, col='darkgreen', type='b', ylab='Recovery Ratio', main='Recovery Ratio')\n",
        "grid()"
      ],
      "execution_count": null,
      "outputs": []
    },
    {
      "cell_type": "code",
      "metadata": {
        "trusted": true,
        "id": "fqG0Pmvu_CHi"
      },
      "source": [
        "plot(df_USA$Date, df_USA$MortRate, pch=16, col='red', type='b', ylab='Death Ratio', main='Death Ratio')\n",
        "grid()"
      ],
      "execution_count": null,
      "outputs": []
    },
    {
      "cell_type": "code",
      "metadata": {
        "trusted": true,
        "id": "Y9VOXOBB_CHi"
      },
      "source": [
        "plot(df_USA$Date, df_USA$Rec_vs_Mort, pch=16, col='blue', type='b', ylab='Recovered : Deaths', main='Recovered : Deaths')\n",
        "grid()"
      ],
      "execution_count": null,
      "outputs": []
    },
    {
      "cell_type": "code",
      "metadata": {
        "trusted": true,
        "id": "c_Nas_Ze_CHi"
      },
      "source": [
        "# bubble plot (death ratio, recovery ratio, total positive cases)\n",
        "ggplot(df_USA, aes(x=RecRate, y=MortRate, size=Confirmed, color=Date)) +\n",
        "      geom_point(alpha=0.7) + ggtitle('Ratios') + theme(legend.position=\"bottom\")"
      ],
      "execution_count": null,
      "outputs": []
    },
    {
      "cell_type": "code",
      "metadata": {
        "trusted": true,
        "id": "fEbcH6LY_CHi"
      },
      "source": [
        "# store in CSV for further processing\n",
        "write.csv(df_USA, file='USA.csv')"
      ],
      "execution_count": null,
      "outputs": []
    },
    {
      "cell_type": "markdown",
      "metadata": {
        "id": "3EX6pobj_CHi"
      },
      "source": [
        "### See also the following notebooks:\n",
        "* Italy: https://www.kaggle.com/docxian/corona-italia-region-province\n",
        "* Spain: https://www.kaggle.com/docxian/corona-in-spain-r\n",
        "* Germany: https://www.kaggle.com/docxian/corona-in-germany-r"
      ]
    }
  ]
}